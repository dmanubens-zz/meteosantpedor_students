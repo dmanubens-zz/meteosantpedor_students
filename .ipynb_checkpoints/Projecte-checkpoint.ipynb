{
 "cells": [
  {
   "cell_type": "markdown",
   "metadata": {},
   "source": [
    "# Projecte"
   ]
  },
  {
   "cell_type": "markdown",
   "metadata": {},
   "source": [
    "__Canvieu el títol d'aquest document per el de la població del vostre grup.__\n",
    "\n"
   ]
  },
  {
   "cell_type": "markdown",
   "metadata": {},
   "source": [
    "Les següents línies preparen el Python notebook per a que pugui treballar amb les llibreries pandas i matplotlib, unes llibreries de tractament de dades massives i representació gràfica. En aquest link teniu molta informació:\n",
    "\n",
    "https://swcarpentry.github.io/python-novice-gapminder/09-plotting/\n",
    "\n",
    "I aquí en castellà:\n",
    "\n",
    "https://datacarpentry.org/python-ecology-lesson-es/08-putting-it-all-together/index.html"
   ]
  },
  {
   "cell_type": "code",
   "execution_count": 1,
   "metadata": {},
   "outputs": [],
   "source": [
    "%matplotlib notebook\n",
    "\n",
    "import os\n",
    "import pandas as pd\n",
    "import matplotlib.pyplot as plt"
   ]
  },
  {
   "cell_type": "markdown",
   "metadata": {},
   "source": [
    "# Passos a fer:"
   ]
  },
  {
   "cell_type": "markdown",
   "metadata": {},
   "source": [
    "__1. Feu clic a la icona de dalt a l'esquerra que diu jupyter per anar a l'explorador de fitxers. Veureu el fitxer amb el nom de la població del vostre grup. Copieu i enganxeu les dades a partir de 1950 que heu trobat a http://www.meteo.cat/wpweb/climatologia/serveis-i-dades-climatiques/series-climatiques-historiques/__"
   ]
  },
  {
   "cell_type": "code",
   "execution_count": 2,
   "metadata": {},
   "outputs": [],
   "source": [
    "filename = os.path.join(os.getcwd(), \"Barcelona.txt\")"
   ]
  },
  {
   "cell_type": "markdown",
   "metadata": {},
   "source": [
    "recordeu de canviar Barcelona pel vostre nom de fitxer!"
   ]
  },
  {
   "cell_type": "markdown",
   "metadata": {},
   "source": [
    "__2. Feu servir la funció de pandas que es diu read_csv per a llegir la informació del vostre fitxer de dades__\n",
    "\n",
    "aquí en teniu un exemple https://notebooks.azure.com/Microsoft/projects/pycon2017/html/Plotting.ipynb"
   ]
  },
  {
   "cell_type": "markdown",
   "metadata": {},
   "source": [
    "Aquí a dalt podeu afegir una cel·la amb el botó  + per a fer el "
   ]
  },
  {
   "cell_type": "markdown",
   "metadata": {},
   "source": [
    "__3. Ara feu servir la funció mean de pandas per a calcular la mitjana sobre l'eix 1__\n",
    "\n",
    "aquí en teniu un exemple https://www.geeksforgeeks.org/python-pandas-dataframe-mean/"
   ]
  },
  {
   "cell_type": "markdown",
   "metadata": {},
   "source": [
    "Aquí a dalt podeu afegir una cel·la amb el botó  + per a fer la mean"
   ]
  },
  {
   "cell_type": "markdown",
   "metadata": {},
   "source": [
    "__4. Un cop calculada feu servir la funció plot per a veure-ho gràficament__"
   ]
  },
  {
   "cell_type": "markdown",
   "metadata": {},
   "source": [
    "Aquí a dalt podeu afegir una cel·la amb el botó  + per a fer el plot"
   ]
  },
  {
   "cell_type": "markdown",
   "metadata": {},
   "source": [
    "Aquestes línies de codi d'abaix us ajudaran a veure el gràfic més suavitzat"
   ]
  },
  {
   "cell_type": "code",
   "execution_count": 6,
   "metadata": {},
   "outputs": [
    {
     "data": {
      "text/plain": [
       "<matplotlib.axes._subplots.AxesSubplot at 0x7f558a55a048>"
      ]
     },
     "execution_count": 6,
     "metadata": {},
     "output_type": "execute_result"
    }
   ],
   "source": [
    "dfmean = df.mean(axis=1)\n",
    "dfroll = dfmean.rolling(8, center=True, win_type=None, on=None, axis=0).mean()\n",
    "dfroll.dropna().plot()"
   ]
  },
  {
   "cell_type": "markdown",
   "metadata": {},
   "source": []
  }
 ],
 "metadata": {
  "kernelspec": {
   "display_name": "Python 3",
   "language": "python",
   "name": "python3"
  },
  "language_info": {
   "codemirror_mode": {
    "name": "ipython",
    "version": 3
   },
   "file_extension": ".py",
   "mimetype": "text/x-python",
   "name": "python",
   "nbconvert_exporter": "python",
   "pygments_lexer": "ipython3",
   "version": "3.6.7"
  }
 },
 "nbformat": 4,
 "nbformat_minor": 2
}
