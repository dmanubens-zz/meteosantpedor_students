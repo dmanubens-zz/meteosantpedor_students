{
 "cells": [
  {
   "cell_type": "markdown",
   "metadata": {
    "slideshow": {
     "slide_type": "-"
    }
   },
   "source": [
    "# Projecte canvi climàtic a Catalunya"
   ]
  },
  {
   "cell_type": "markdown",
   "metadata": {},
   "source": [
    "__Canvieu el títol d'aquest document per el de la població del vostre grup.__\n",
    "\n"
   ]
  },
  {
   "cell_type": "markdown",
   "metadata": {},
   "source": [
    "Les següents línies preparen el Python notebook per a que pugui treballar amb les llibreries pandas i matplotlib, unes llibreries de tractament de dades massives i representació gràfica. En aquest link teniu molta informació:\n",
    "\n",
    "https://swcarpentry.github.io/python-novice-gapminder/09-plotting/\n",
    "\n",
    "I aquí en castellà:\n",
    "\n",
    "https://datacarpentry.org/python-ecology-lesson-es/08-putting-it-all-together/index.html"
   ]
  },
  {
   "cell_type": "code",
   "execution_count": 2,
   "metadata": {},
   "outputs": [],
   "source": [
    "%matplotlib notebook\n",
    "\n",
    "import os\n",
    "import pandas as pd\n",
    "import matplotlib.pyplot as plt"
   ]
  },
  {
   "cell_type": "markdown",
   "metadata": {},
   "source": [
    "# Passos a fer:"
   ]
  },
  {
   "cell_type": "markdown",
   "metadata": {},
   "source": [
    "__1. Feu clic a la icona de dalt a l'esquerra que diu jupyter per anar a l'explorador de fitxers. Veureu el fitxer amb el nom de la població del vostre grup. Copieu i enganxeu les dades a partir de 1950 que heu trobat a http://www.meteo.cat/wpweb/climatologia/serveis-i-dades-climatiques/series-climatiques-historiques/__"
   ]
  },
  {
   "cell_type": "code",
   "execution_count": 5,
   "metadata": {},
   "outputs": [],
   "source": [
    "filename = os.path.join(os.getcwd(), \"Barcelona_TM_m_1780_2018.txt\")"
   ]
  },
  {
   "cell_type": "markdown",
   "metadata": {},
   "source": [
    "recordeu de canviar Barcelona pel vostre nom de fitxer!"
   ]
  },
  {
   "cell_type": "markdown",
   "metadata": {},
   "source": [
    "__2. Feu servir la funció de pandas que es diu read_csv per a llegir la informació del vostre fitxer de dades__\n",
    "\n",
    "aquí en teniu un exemple https://notebooks.azure.com/Microsoft/projects/pycon2017/html/Plotting.ipynb"
   ]
  },
  {
   "cell_type": "code",
   "execution_count": 13,
   "metadata": {},
   "outputs": [],
   "source": [
    "df = pd.read_csv(filename, sep=\"\\t\", index_col=0, names=['any', 1,2,3,4,5,6,7,8,9,10,11,12])"
   ]
  },
  {
   "cell_type": "code",
   "execution_count": 20,
   "metadata": {},
   "outputs": [
    {
     "data": {
      "text/plain": [
       "any\n",
       "1780     6.7\n",
       "1781     7.5\n",
       "1782     8.2\n",
       "1783     8.3\n",
       "1784     7.3\n",
       "1785     9.0\n",
       "1786     7.8\n",
       "1787     5.4\n",
       "1788     6.4\n",
       "1789     6.9\n",
       "1790     7.4\n",
       "1791     9.5\n",
       "1792     8.7\n",
       "1793     6.7\n",
       "1794     7.0\n",
       "1795     6.3\n",
       "1796     9.0\n",
       "1797     6.8\n",
       "1798     7.1\n",
       "1799     7.4\n",
       "1800     7.5\n",
       "1801     7.2\n",
       "1802     3.6\n",
       "1803     6.9\n",
       "1804     9.7\n",
       "1805     6.7\n",
       "1806     6.8\n",
       "1807     6.6\n",
       "1808     5.4\n",
       "1809     9.5\n",
       "        ... \n",
       "1989     8.8\n",
       "1990     9.0\n",
       "1991     8.1\n",
       "1992     7.1\n",
       "1993     9.0\n",
       "1994     8.4\n",
       "1995     8.6\n",
       "1996    10.2\n",
       "1997     8.7\n",
       "1998     8.8\n",
       "1999     8.8\n",
       "2000     7.7\n",
       "2001     9.9\n",
       "2002     9.2\n",
       "2003     7.9\n",
       "2004     9.4\n",
       "2005     7.2\n",
       "2006     7.4\n",
       "2007     9.9\n",
       "2008    10.1\n",
       "2009     7.2\n",
       "2010     6.6\n",
       "2011     8.4\n",
       "2012     9.4\n",
       "2013     9.1\n",
       "2014     9.8\n",
       "2015     9.1\n",
       "2016    10.7\n",
       "2017     7.9\n",
       "2018    10.5\n",
       "Name: 1, Length: 239, dtype: float64"
      ]
     },
     "execution_count": 20,
     "metadata": {},
     "output_type": "execute_result"
    }
   ],
   "source": [
    "df[1]"
   ]
  },
  {
   "cell_type": "markdown",
   "metadata": {},
   "source": [
    "Aquí a dalt podeu afegir una cel·la amb el botó  + per a fer el read_csv"
   ]
  },
  {
   "cell_type": "markdown",
   "metadata": {},
   "source": [
    "__3. Ara feu servir la funció mean de pandas per a calcular la mitjana sobre l'eix 1__\n",
    "\n",
    "aquí en teniu un exemple https://www.geeksforgeeks.org/python-pandas-dataframe-mean/"
   ]
  },
  {
   "cell_type": "markdown",
   "metadata": {},
   "source": [
    "Aquí a dalt podeu afegir una cel·la amb el botó  + per a fer la mean"
   ]
  },
  {
   "cell_type": "markdown",
   "metadata": {},
   "source": [
    "__4. Un cop calculada feu servir la funció plot per a veure-ho gràficament__"
   ]
  },
  {
   "cell_type": "markdown",
   "metadata": {},
   "source": [
    "Aquí a dalt podeu afegir una cel·la amb el botó  + per a fer el plot"
   ]
  },
  {
   "cell_type": "markdown",
   "metadata": {},
   "source": [
    "Aquestes línies de codi d'abaix us ajudaran a veure el gràfic més suavitzat"
   ]
  },
  {
   "cell_type": "code",
   "execution_count": 6,
   "metadata": {},
   "outputs": [
    {
     "data": {
      "text/plain": [
       "<matplotlib.axes._subplots.AxesSubplot at 0x7f558a55a048>"
      ]
     },
     "execution_count": 6,
     "metadata": {},
     "output_type": "execute_result"
    }
   ],
   "source": [
    "dfmean = df.mean(axis=1)\n",
    "dfroll = dfmean.rolling(8, center=True, win_type=None, on=None, axis=0).mean()\n",
    "dfroll.dropna().plot()"
   ]
  },
  {
   "cell_type": "markdown",
   "metadata": {},
   "source": []
  }
 ],
 "metadata": {
  "kernelspec": {
   "display_name": "Python 3",
   "language": "python",
   "name": "python3"
  },
  "language_info": {
   "codemirror_mode": {
    "name": "ipython",
    "version": 3
   },
   "file_extension": ".py",
   "mimetype": "text/x-python",
   "name": "python",
   "nbconvert_exporter": "python",
   "pygments_lexer": "ipython3",
   "version": "3.6.7"
  }
 },
 "nbformat": 4,
 "nbformat_minor": 2
}
